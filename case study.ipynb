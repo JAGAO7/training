{
 "cells": [
  {
   "cell_type": "code",
   "execution_count": 1,
   "id": "e1f8340c",
   "metadata": {},
   "outputs": [],
   "source": [
    "import os\n",
    "import pymysql\n",
    "import pandas as pd"
   ]
  },
  {
   "cell_type": "code",
   "execution_count": 7,
   "id": "ebb45b95",
   "metadata": {},
   "outputs": [
    {
     "name": "stdout",
     "output_type": "stream",
     "text": [
      "Database version:  {'Database': 'casestudy'}\n"
     ]
    }
   ],
   "source": [
    "con = pymysql.connect(host = \"localhost\"\n",
    "                      , user = \"spark\"\n",
    "                      , password = \"spark\"\n",
    "                      , autocommit=\"True\"\n",
    "                      , charset=\"utf8mb4\"\n",
    "                      , connect_timeout = 3600\n",
    "                      , cursorclass=pymysql.cursors.DictCursor\n",
    "                     )\n",
    "cursor = con.cursor()\n",
    "cursor.execute(\"SELECT VERSION()\")\n",
    "version = cur.fetchone()\n",
    "print(\"Database version: \", version)"
   ]
  },
  {
   "cell_type": "code",
   "execution_count": 12,
   "id": "fbb7eec4",
   "metadata": {},
   "outputs": [
    {
     "data": {
      "text/plain": [
       "6"
      ]
     },
     "execution_count": 12,
     "metadata": {},
     "output_type": "execute_result"
    }
   ],
   "source": [
    "#total databases\n",
    "cursor.execute(\"SHOW DATABASES\")"
   ]
  },
  {
   "cell_type": "code",
   "execution_count": 13,
   "id": "65622fb9",
   "metadata": {},
   "outputs": [
    {
     "data": {
      "text/plain": [
       "[{'Database': 'casestudy'},\n",
       " {'Database': 'information_schema'},\n",
       " {'Database': 'mysql'},\n",
       " {'Database': 'performance_schema'},\n",
       " {'Database': 'retail_db'},\n",
       " {'Database': 'training'}]"
      ]
     },
     "execution_count": 13,
     "metadata": {},
     "output_type": "execute_result"
    }
   ],
   "source": [
    "list(cursor.fetchall())"
   ]
  },
  {
   "cell_type": "code",
   "execution_count": 16,
   "id": "9606a14b",
   "metadata": {},
   "outputs": [
    {
     "data": {
      "text/plain": [
       "0"
      ]
     },
     "execution_count": 16,
     "metadata": {},
     "output_type": "execute_result"
    }
   ],
   "source": [
    "cursor.execute(\"USE casestudy\")"
   ]
  },
  {
   "cell_type": "code",
   "execution_count": 18,
   "id": "0383d4aa",
   "metadata": {},
   "outputs": [
    {
     "data": {
      "text/plain": [
       "[{'Tables_in_casestudy': 'categories'},\n",
       " {'Tables_in_casestudy': 'customers'},\n",
       " {'Tables_in_casestudy': 'departments'},\n",
       " {'Tables_in_casestudy': 'order_items'},\n",
       " {'Tables_in_casestudy': 'orders'},\n",
       " {'Tables_in_casestudy': 'products'}]"
      ]
     },
     "execution_count": 18,
     "metadata": {},
     "output_type": "execute_result"
    }
   ],
   "source": [
    "cursor.execute(\"SHOW tables\")\n",
    "cursor.fetchall()"
   ]
  },
  {
   "cell_type": "code",
   "execution_count": 23,
   "id": "27faaf55",
   "metadata": {},
   "outputs": [
    {
     "name": "stderr",
     "output_type": "stream",
     "text": [
      "/home/rps/.local/lib/python3.8/site-packages/pandas/io/sql.py:761: UserWarning: pandas only support SQLAlchemy connectable(engine/connection) ordatabase string URI or sqlite3 DBAPI2 connectionother DBAPI2 objects are not tested, please consider using SQLAlchemy\n",
      "  warnings.warn(\n",
      "/home/rps/.local/lib/python3.8/site-packages/pandas/io/sql.py:761: UserWarning: pandas only support SQLAlchemy connectable(engine/connection) ordatabase string URI or sqlite3 DBAPI2 connectionother DBAPI2 objects are not tested, please consider using SQLAlchemy\n",
      "  warnings.warn(\n",
      "/home/rps/.local/lib/python3.8/site-packages/pandas/io/sql.py:761: UserWarning: pandas only support SQLAlchemy connectable(engine/connection) ordatabase string URI or sqlite3 DBAPI2 connectionother DBAPI2 objects are not tested, please consider using SQLAlchemy\n",
      "  warnings.warn(\n",
      "/home/rps/.local/lib/python3.8/site-packages/pandas/io/sql.py:761: UserWarning: pandas only support SQLAlchemy connectable(engine/connection) ordatabase string URI or sqlite3 DBAPI2 connectionother DBAPI2 objects are not tested, please consider using SQLAlchemy\n",
      "  warnings.warn(\n",
      "/home/rps/.local/lib/python3.8/site-packages/pandas/io/sql.py:761: UserWarning: pandas only support SQLAlchemy connectable(engine/connection) ordatabase string URI or sqlite3 DBAPI2 connectionother DBAPI2 objects are not tested, please consider using SQLAlchemy\n",
      "  warnings.warn(\n",
      "/home/rps/.local/lib/python3.8/site-packages/pandas/io/sql.py:761: UserWarning: pandas only support SQLAlchemy connectable(engine/connection) ordatabase string URI or sqlite3 DBAPI2 connectionother DBAPI2 objects are not tested, please consider using SQLAlchemy\n",
      "  warnings.warn(\n"
     ]
    }
   ],
   "source": [
    "categories = pd.read_sql('SELECT * FROM categories', con=con)\n",
    "customers = pd.read_sql('SELECT * FROM customers', con=con)\n",
    "departments = pd.read_sql('SELECT * FROM departments', con=con)\n",
    "order_items = pd.read_sql('SELECT * FROM order_items', con=con)\n",
    "orders = pd.read_sql('SELECT * FROM orders', con=con)\n",
    "products = pd.read_sql('SELECT * FROM products', con=con)"
   ]
  },
  {
   "cell_type": "code",
   "execution_count": 142,
   "id": "b2a52713",
   "metadata": {},
   "outputs": [
    {
     "data": {
      "text/html": [
       "<div>\n",
       "<style scoped>\n",
       "    .dataframe tbody tr th:only-of-type {\n",
       "        vertical-align: middle;\n",
       "    }\n",
       "\n",
       "    .dataframe tbody tr th {\n",
       "        vertical-align: top;\n",
       "    }\n",
       "\n",
       "    .dataframe thead th {\n",
       "        text-align: right;\n",
       "    }\n",
       "</style>\n",
       "<table border=\"1\" class=\"dataframe\">\n",
       "  <thead>\n",
       "    <tr style=\"text-align: right;\">\n",
       "      <th></th>\n",
       "      <th>category_id</th>\n",
       "      <th>category_department_id</th>\n",
       "      <th>category_name</th>\n",
       "    </tr>\n",
       "  </thead>\n",
       "  <tbody>\n",
       "    <tr>\n",
       "      <th>0</th>\n",
       "      <td>1</td>\n",
       "      <td>2</td>\n",
       "      <td>Football</td>\n",
       "    </tr>\n",
       "    <tr>\n",
       "      <th>1</th>\n",
       "      <td>2</td>\n",
       "      <td>2</td>\n",
       "      <td>Soccer</td>\n",
       "    </tr>\n",
       "    <tr>\n",
       "      <th>2</th>\n",
       "      <td>3</td>\n",
       "      <td>2</td>\n",
       "      <td>Baseball &amp; Softball</td>\n",
       "    </tr>\n",
       "    <tr>\n",
       "      <th>3</th>\n",
       "      <td>4</td>\n",
       "      <td>2</td>\n",
       "      <td>Basketball</td>\n",
       "    </tr>\n",
       "    <tr>\n",
       "      <th>4</th>\n",
       "      <td>5</td>\n",
       "      <td>2</td>\n",
       "      <td>Lacrosse</td>\n",
       "    </tr>\n",
       "  </tbody>\n",
       "</table>\n",
       "</div>"
      ],
      "text/plain": [
       "   category_id  category_department_id        category_name\n",
       "0            1                       2             Football\n",
       "1            2                       2               Soccer\n",
       "2            3                       2  Baseball & Softball\n",
       "3            4                       2           Basketball\n",
       "4            5                       2             Lacrosse"
      ]
     },
     "execution_count": 142,
     "metadata": {},
     "output_type": "execute_result"
    }
   ],
   "source": [
    "categories.head()"
   ]
  },
  {
   "cell_type": "code",
   "execution_count": 25,
   "id": "203a02bf",
   "metadata": {},
   "outputs": [
    {
     "data": {
      "text/html": [
       "<div>\n",
       "<style scoped>\n",
       "    .dataframe tbody tr th:only-of-type {\n",
       "        vertical-align: middle;\n",
       "    }\n",
       "\n",
       "    .dataframe tbody tr th {\n",
       "        vertical-align: top;\n",
       "    }\n",
       "\n",
       "    .dataframe thead th {\n",
       "        text-align: right;\n",
       "    }\n",
       "</style>\n",
       "<table border=\"1\" class=\"dataframe\">\n",
       "  <thead>\n",
       "    <tr style=\"text-align: right;\">\n",
       "      <th></th>\n",
       "      <th>customer_id</th>\n",
       "      <th>customer_fname</th>\n",
       "      <th>customer_lname</th>\n",
       "      <th>customer_email</th>\n",
       "      <th>customer_password</th>\n",
       "      <th>customer_street</th>\n",
       "      <th>customer_city</th>\n",
       "      <th>customer_state</th>\n",
       "      <th>customer_zipcode</th>\n",
       "    </tr>\n",
       "  </thead>\n",
       "  <tbody>\n",
       "    <tr>\n",
       "      <th>0</th>\n",
       "      <td>1</td>\n",
       "      <td>Richard</td>\n",
       "      <td>Hernandez</td>\n",
       "      <td>XXXXXXXXX</td>\n",
       "      <td>XXXXXXXXX</td>\n",
       "      <td>6303 Heather Plaza</td>\n",
       "      <td>Brownsville</td>\n",
       "      <td>TX</td>\n",
       "      <td>78521</td>\n",
       "    </tr>\n",
       "    <tr>\n",
       "      <th>1</th>\n",
       "      <td>2</td>\n",
       "      <td>Mary</td>\n",
       "      <td>Barrett</td>\n",
       "      <td>XXXXXXXXX</td>\n",
       "      <td>XXXXXXXXX</td>\n",
       "      <td>9526 Noble Embers Ridge</td>\n",
       "      <td>Littleton</td>\n",
       "      <td>CO</td>\n",
       "      <td>80126</td>\n",
       "    </tr>\n",
       "    <tr>\n",
       "      <th>2</th>\n",
       "      <td>3</td>\n",
       "      <td>Ann</td>\n",
       "      <td>Smith</td>\n",
       "      <td>XXXXXXXXX</td>\n",
       "      <td>XXXXXXXXX</td>\n",
       "      <td>3422 Blue Pioneer Bend</td>\n",
       "      <td>Caguas</td>\n",
       "      <td>PR</td>\n",
       "      <td>00725</td>\n",
       "    </tr>\n",
       "    <tr>\n",
       "      <th>3</th>\n",
       "      <td>4</td>\n",
       "      <td>Mary</td>\n",
       "      <td>Jones</td>\n",
       "      <td>XXXXXXXXX</td>\n",
       "      <td>XXXXXXXXX</td>\n",
       "      <td>8324 Little Common</td>\n",
       "      <td>San Marcos</td>\n",
       "      <td>CA</td>\n",
       "      <td>92069</td>\n",
       "    </tr>\n",
       "    <tr>\n",
       "      <th>4</th>\n",
       "      <td>5</td>\n",
       "      <td>Robert</td>\n",
       "      <td>Hudson</td>\n",
       "      <td>XXXXXXXXX</td>\n",
       "      <td>XXXXXXXXX</td>\n",
       "      <td>10 Crystal River Mall</td>\n",
       "      <td>Caguas</td>\n",
       "      <td>PR</td>\n",
       "      <td>00725</td>\n",
       "    </tr>\n",
       "  </tbody>\n",
       "</table>\n",
       "</div>"
      ],
      "text/plain": [
       "   customer_id customer_fname customer_lname customer_email customer_password  \\\n",
       "0            1        Richard      Hernandez      XXXXXXXXX         XXXXXXXXX   \n",
       "1            2           Mary        Barrett      XXXXXXXXX         XXXXXXXXX   \n",
       "2            3            Ann          Smith      XXXXXXXXX         XXXXXXXXX   \n",
       "3            4           Mary          Jones      XXXXXXXXX         XXXXXXXXX   \n",
       "4            5         Robert         Hudson      XXXXXXXXX         XXXXXXXXX   \n",
       "\n",
       "           customer_street customer_city customer_state customer_zipcode  \n",
       "0       6303 Heather Plaza   Brownsville             TX            78521  \n",
       "1  9526 Noble Embers Ridge     Littleton             CO            80126  \n",
       "2   3422 Blue Pioneer Bend        Caguas             PR            00725  \n",
       "3       8324 Little Common    San Marcos             CA            92069  \n",
       "4   10 Crystal River Mall         Caguas             PR            00725  "
      ]
     },
     "execution_count": 25,
     "metadata": {},
     "output_type": "execute_result"
    }
   ],
   "source": [
    "customers.head()"
   ]
  },
  {
   "cell_type": "code",
   "execution_count": 27,
   "id": "149cfac4",
   "metadata": {},
   "outputs": [
    {
     "data": {
      "text/html": [
       "<div>\n",
       "<style scoped>\n",
       "    .dataframe tbody tr th:only-of-type {\n",
       "        vertical-align: middle;\n",
       "    }\n",
       "\n",
       "    .dataframe tbody tr th {\n",
       "        vertical-align: top;\n",
       "    }\n",
       "\n",
       "    .dataframe thead th {\n",
       "        text-align: right;\n",
       "    }\n",
       "</style>\n",
       "<table border=\"1\" class=\"dataframe\">\n",
       "  <thead>\n",
       "    <tr style=\"text-align: right;\">\n",
       "      <th></th>\n",
       "      <th>department_id</th>\n",
       "      <th>department_name</th>\n",
       "    </tr>\n",
       "  </thead>\n",
       "  <tbody>\n",
       "    <tr>\n",
       "      <th>0</th>\n",
       "      <td>2</td>\n",
       "      <td>Fitness</td>\n",
       "    </tr>\n",
       "    <tr>\n",
       "      <th>1</th>\n",
       "      <td>3</td>\n",
       "      <td>Footwear</td>\n",
       "    </tr>\n",
       "    <tr>\n",
       "      <th>2</th>\n",
       "      <td>4</td>\n",
       "      <td>Apparel</td>\n",
       "    </tr>\n",
       "    <tr>\n",
       "      <th>3</th>\n",
       "      <td>5</td>\n",
       "      <td>Golf</td>\n",
       "    </tr>\n",
       "    <tr>\n",
       "      <th>4</th>\n",
       "      <td>6</td>\n",
       "      <td>Outdoors</td>\n",
       "    </tr>\n",
       "  </tbody>\n",
       "</table>\n",
       "</div>"
      ],
      "text/plain": [
       "   department_id department_name\n",
       "0              2         Fitness\n",
       "1              3        Footwear\n",
       "2              4         Apparel\n",
       "3              5            Golf\n",
       "4              6        Outdoors"
      ]
     },
     "execution_count": 27,
     "metadata": {},
     "output_type": "execute_result"
    }
   ],
   "source": [
    "departments.head()"
   ]
  },
  {
   "cell_type": "code",
   "execution_count": 34,
   "id": "86071c82",
   "metadata": {},
   "outputs": [
    {
     "data": {
      "text/html": [
       "<div>\n",
       "<style scoped>\n",
       "    .dataframe tbody tr th:only-of-type {\n",
       "        vertical-align: middle;\n",
       "    }\n",
       "\n",
       "    .dataframe tbody tr th {\n",
       "        vertical-align: top;\n",
       "    }\n",
       "\n",
       "    .dataframe thead th {\n",
       "        text-align: right;\n",
       "    }\n",
       "</style>\n",
       "<table border=\"1\" class=\"dataframe\">\n",
       "  <thead>\n",
       "    <tr style=\"text-align: right;\">\n",
       "      <th></th>\n",
       "      <th>order_item_id</th>\n",
       "      <th>order_item_order_id</th>\n",
       "      <th>order_item_product_id</th>\n",
       "      <th>order_item_quantity</th>\n",
       "      <th>order_item_subtotal</th>\n",
       "      <th>order_item_product_price</th>\n",
       "    </tr>\n",
       "  </thead>\n",
       "  <tbody>\n",
       "    <tr>\n",
       "      <th>0</th>\n",
       "      <td>1</td>\n",
       "      <td>1</td>\n",
       "      <td>957</td>\n",
       "      <td>1</td>\n",
       "      <td>299.98</td>\n",
       "      <td>299.98</td>\n",
       "    </tr>\n",
       "    <tr>\n",
       "      <th>1</th>\n",
       "      <td>2</td>\n",
       "      <td>2</td>\n",
       "      <td>1073</td>\n",
       "      <td>1</td>\n",
       "      <td>199.99</td>\n",
       "      <td>199.99</td>\n",
       "    </tr>\n",
       "    <tr>\n",
       "      <th>2</th>\n",
       "      <td>3</td>\n",
       "      <td>2</td>\n",
       "      <td>502</td>\n",
       "      <td>5</td>\n",
       "      <td>250.00</td>\n",
       "      <td>50.00</td>\n",
       "    </tr>\n",
       "    <tr>\n",
       "      <th>3</th>\n",
       "      <td>4</td>\n",
       "      <td>2</td>\n",
       "      <td>403</td>\n",
       "      <td>1</td>\n",
       "      <td>129.99</td>\n",
       "      <td>129.99</td>\n",
       "    </tr>\n",
       "    <tr>\n",
       "      <th>4</th>\n",
       "      <td>5</td>\n",
       "      <td>4</td>\n",
       "      <td>897</td>\n",
       "      <td>2</td>\n",
       "      <td>49.98</td>\n",
       "      <td>24.99</td>\n",
       "    </tr>\n",
       "  </tbody>\n",
       "</table>\n",
       "</div>"
      ],
      "text/plain": [
       "   order_item_id  order_item_order_id  order_item_product_id  \\\n",
       "0              1                    1                    957   \n",
       "1              2                    2                   1073   \n",
       "2              3                    2                    502   \n",
       "3              4                    2                    403   \n",
       "4              5                    4                    897   \n",
       "\n",
       "   order_item_quantity  order_item_subtotal  order_item_product_price  \n",
       "0                    1               299.98                    299.98  \n",
       "1                    1               199.99                    199.99  \n",
       "2                    5               250.00                     50.00  \n",
       "3                    1               129.99                    129.99  \n",
       "4                    2                49.98                     24.99  "
      ]
     },
     "execution_count": 34,
     "metadata": {},
     "output_type": "execute_result"
    }
   ],
   "source": [
    "order_items.head()"
   ]
  },
  {
   "cell_type": "code",
   "execution_count": 35,
   "id": "9b2f0b6d",
   "metadata": {},
   "outputs": [
    {
     "data": {
      "text/html": [
       "<div>\n",
       "<style scoped>\n",
       "    .dataframe tbody tr th:only-of-type {\n",
       "        vertical-align: middle;\n",
       "    }\n",
       "\n",
       "    .dataframe tbody tr th {\n",
       "        vertical-align: top;\n",
       "    }\n",
       "\n",
       "    .dataframe thead th {\n",
       "        text-align: right;\n",
       "    }\n",
       "</style>\n",
       "<table border=\"1\" class=\"dataframe\">\n",
       "  <thead>\n",
       "    <tr style=\"text-align: right;\">\n",
       "      <th></th>\n",
       "      <th>order_id</th>\n",
       "      <th>order_date</th>\n",
       "      <th>order_customer_id</th>\n",
       "      <th>order_status</th>\n",
       "    </tr>\n",
       "  </thead>\n",
       "  <tbody>\n",
       "    <tr>\n",
       "      <th>0</th>\n",
       "      <td>1</td>\n",
       "      <td>2013-07-25</td>\n",
       "      <td>11599</td>\n",
       "      <td>CLOSED</td>\n",
       "    </tr>\n",
       "    <tr>\n",
       "      <th>1</th>\n",
       "      <td>2</td>\n",
       "      <td>2013-07-25</td>\n",
       "      <td>256</td>\n",
       "      <td>PENDING_PAYMENT</td>\n",
       "    </tr>\n",
       "    <tr>\n",
       "      <th>2</th>\n",
       "      <td>3</td>\n",
       "      <td>2013-07-25</td>\n",
       "      <td>12111</td>\n",
       "      <td>COMPLETE</td>\n",
       "    </tr>\n",
       "    <tr>\n",
       "      <th>3</th>\n",
       "      <td>4</td>\n",
       "      <td>2013-07-25</td>\n",
       "      <td>8827</td>\n",
       "      <td>CLOSED</td>\n",
       "    </tr>\n",
       "    <tr>\n",
       "      <th>4</th>\n",
       "      <td>5</td>\n",
       "      <td>2013-07-25</td>\n",
       "      <td>11318</td>\n",
       "      <td>COMPLETE</td>\n",
       "    </tr>\n",
       "  </tbody>\n",
       "</table>\n",
       "</div>"
      ],
      "text/plain": [
       "   order_id order_date  order_customer_id     order_status\n",
       "0         1 2013-07-25              11599           CLOSED\n",
       "1         2 2013-07-25                256  PENDING_PAYMENT\n",
       "2         3 2013-07-25              12111         COMPLETE\n",
       "3         4 2013-07-25               8827           CLOSED\n",
       "4         5 2013-07-25              11318         COMPLETE"
      ]
     },
     "execution_count": 35,
     "metadata": {},
     "output_type": "execute_result"
    }
   ],
   "source": [
    "orders.head()"
   ]
  },
  {
   "cell_type": "code",
   "execution_count": 30,
   "id": "de5ef78e",
   "metadata": {},
   "outputs": [
    {
     "data": {
      "text/html": [
       "<div>\n",
       "<style scoped>\n",
       "    .dataframe tbody tr th:only-of-type {\n",
       "        vertical-align: middle;\n",
       "    }\n",
       "\n",
       "    .dataframe tbody tr th {\n",
       "        vertical-align: top;\n",
       "    }\n",
       "\n",
       "    .dataframe thead th {\n",
       "        text-align: right;\n",
       "    }\n",
       "</style>\n",
       "<table border=\"1\" class=\"dataframe\">\n",
       "  <thead>\n",
       "    <tr style=\"text-align: right;\">\n",
       "      <th></th>\n",
       "      <th>product_id</th>\n",
       "      <th>product_category_id</th>\n",
       "      <th>product_name</th>\n",
       "      <th>product_description</th>\n",
       "      <th>product_price</th>\n",
       "      <th>product_image</th>\n",
       "    </tr>\n",
       "  </thead>\n",
       "  <tbody>\n",
       "    <tr>\n",
       "      <th>0</th>\n",
       "      <td>1</td>\n",
       "      <td>2</td>\n",
       "      <td>Quest Q64 10 FT. x 10 FT. Slant Leg Instant U</td>\n",
       "      <td></td>\n",
       "      <td>59.98</td>\n",
       "      <td>http://images.acmesports.sports/Quest+Q64+10+F...</td>\n",
       "    </tr>\n",
       "    <tr>\n",
       "      <th>1</th>\n",
       "      <td>2</td>\n",
       "      <td>2</td>\n",
       "      <td>Under Armour Men's Highlight MC Football Clea</td>\n",
       "      <td></td>\n",
       "      <td>129.99</td>\n",
       "      <td>http://images.acmesports.sports/Under+Armour+M...</td>\n",
       "    </tr>\n",
       "    <tr>\n",
       "      <th>2</th>\n",
       "      <td>3</td>\n",
       "      <td>2</td>\n",
       "      <td>Under Armour Men's Renegade D Mid Football Cl</td>\n",
       "      <td></td>\n",
       "      <td>89.99</td>\n",
       "      <td>http://images.acmesports.sports/Under+Armour+M...</td>\n",
       "    </tr>\n",
       "    <tr>\n",
       "      <th>3</th>\n",
       "      <td>4</td>\n",
       "      <td>2</td>\n",
       "      <td>Under Armour Men's Renegade D Mid Football Cl</td>\n",
       "      <td></td>\n",
       "      <td>89.99</td>\n",
       "      <td>http://images.acmesports.sports/Under+Armour+M...</td>\n",
       "    </tr>\n",
       "    <tr>\n",
       "      <th>4</th>\n",
       "      <td>5</td>\n",
       "      <td>2</td>\n",
       "      <td>Riddell Youth Revolution Speed Custom Footbal</td>\n",
       "      <td></td>\n",
       "      <td>199.99</td>\n",
       "      <td>http://images.acmesports.sports/Riddell+Youth+...</td>\n",
       "    </tr>\n",
       "  </tbody>\n",
       "</table>\n",
       "</div>"
      ],
      "text/plain": [
       "   product_id  product_category_id  \\\n",
       "0           1                    2   \n",
       "1           2                    2   \n",
       "2           3                    2   \n",
       "3           4                    2   \n",
       "4           5                    2   \n",
       "\n",
       "                                    product_name product_description  \\\n",
       "0  Quest Q64 10 FT. x 10 FT. Slant Leg Instant U                       \n",
       "1  Under Armour Men's Highlight MC Football Clea                       \n",
       "2  Under Armour Men's Renegade D Mid Football Cl                       \n",
       "3  Under Armour Men's Renegade D Mid Football Cl                       \n",
       "4  Riddell Youth Revolution Speed Custom Footbal                       \n",
       "\n",
       "   product_price                                      product_image  \n",
       "0          59.98  http://images.acmesports.sports/Quest+Q64+10+F...  \n",
       "1         129.99  http://images.acmesports.sports/Under+Armour+M...  \n",
       "2          89.99  http://images.acmesports.sports/Under+Armour+M...  \n",
       "3          89.99  http://images.acmesports.sports/Under+Armour+M...  \n",
       "4         199.99  http://images.acmesports.sports/Riddell+Youth+...  "
      ]
     },
     "execution_count": 30,
     "metadata": {},
     "output_type": "execute_result"
    }
   ],
   "source": [
    "products.head()"
   ]
  },
  {
   "cell_type": "code",
   "execution_count": null,
   "id": "19b59f71",
   "metadata": {},
   "outputs": [],
   "source": []
  },
  {
   "cell_type": "markdown",
   "id": "12ca7c83",
   "metadata": {},
   "source": [
    "# Q1 \n",
    "Find total sales volume ($) for all possible combinations of quarter, department and product categories. In SQL there is a technique called \"rollup\". If you use that, a single query can meet this requirement.\n"
   ]
  },
  {
   "cell_type": "code",
   "execution_count": 114,
   "id": "5ad757f5",
   "metadata": {},
   "outputs": [
    {
     "data": {
      "text/plain": [
       "order_date\n",
       "2013-09-30    181729291\n",
       "2013-12-31    444564751\n",
       "2014-03-31    658058954\n",
       "2014-06-30    830254131\n",
       "2014-09-30    257861159\n",
       "Freq: Q-DEC, Name: order_id, dtype: int64"
      ]
     },
     "execution_count": 114,
     "metadata": {},
     "output_type": "execute_result"
    }
   ],
   "source": [
    "df=orders.copy()\n",
    "df.index=df.order_date\n",
    "df\n",
    "df2=order_items.copy()\n",
    "df.resample(\"Q\")['order_id'].[]"
   ]
  },
  {
   "cell_type": "code",
   "execution_count": 161,
   "id": "ed8f3adc",
   "metadata": {},
   "outputs": [
    {
     "data": {
      "text/plain": [
       "order_item_order_id\n",
       "1         299.98\n",
       "2         579.98\n",
       "4         699.85\n",
       "5        1129.86\n",
       "7         579.92\n",
       "          ...   \n",
       "68879    1259.97\n",
       "68880     999.77\n",
       "68881     129.99\n",
       "68882     109.99\n",
       "68883    2149.99\n",
       "Name: order_item_subtotal, Length: 57431, dtype: float64"
      ]
     },
     "execution_count": 161,
     "metadata": {},
     "output_type": "execute_result"
    }
   ],
   "source": [
    "df=order_items.groupby(['order_item_order_id'])['order_item_subtotal'].sum()\n",
    "df"
   ]
  },
  {
   "cell_type": "code",
   "execution_count": 156,
   "id": "4e7e13b7",
   "metadata": {},
   "outputs": [
    {
     "data": {
      "text/plain": [
       "(Timestamp('2013-07-25 00:00:00'), Timestamp('2014-07-24 00:00:00'))"
      ]
     },
     "execution_count": 156,
     "metadata": {},
     "output_type": "execute_result"
    }
   ],
   "source": [
    "orders['order_date'].min(),orders['order_date'].max()"
   ]
  },
  {
   "cell_type": "code",
   "execution_count": null,
   "id": "a3396e27",
   "metadata": {},
   "outputs": [],
   "source": []
  },
  {
   "cell_type": "code",
   "execution_count": null,
   "id": "d03dab95",
   "metadata": {},
   "outputs": [],
   "source": []
  },
  {
   "cell_type": "code",
   "execution_count": null,
   "id": "ab071c88",
   "metadata": {},
   "outputs": [],
   "source": [
    "#sql"
   ]
  },
  {
   "cell_type": "code",
   "execution_count": 162,
   "id": "34bcc2b6",
   "metadata": {},
   "outputs": [
    {
     "data": {
      "text/plain": [
       "[{'Qt': 1,\n",
       "  'date': datetime.datetime(2014, 1, 3, 0, 0),\n",
       "  'total_sales': 8565603.04792595},\n",
       " {'Qt': 2,\n",
       "  'date': datetime.datetime(2014, 4, 3, 0, 0),\n",
       "  'total_sales': 8264331.619920731},\n",
       " {'Qt': 3,\n",
       "  'date': datetime.datetime(2013, 7, 25, 0, 0),\n",
       "  'total_sales': 8766464.85039711},\n",
       " {'Qt': 4,\n",
       "  'date': datetime.datetime(2013, 10, 4, 0, 0),\n",
       "  'total_sales': 8726221.080181122},\n",
       " {'Qt': None,\n",
       "  'date': datetime.datetime(2013, 10, 4, 0, 0),\n",
       "  'total_sales': 34322620.59842491}]"
      ]
     },
     "execution_count": 162,
     "metadata": {},
     "output_type": "execute_result"
    }
   ],
   "source": [
    "cursor.execute(\"\"\"select Quarter(order_date) as Qt,order_date as date,\n",
    "sum(order_item_subtotal) as total_sales from orders t1\n",
    "join order_items t2\n",
    "on t1.order_id=t2.order_item_order_id\n",
    "group by Quarter(order_date) with rollup\"\"\")\n",
    "q_sales=cursor.fetchall()\n",
    "q_sales"
   ]
  },
  {
   "cell_type": "code",
   "execution_count": 169,
   "id": "f4c57d60",
   "metadata": {},
   "outputs": [
    {
     "data": {
      "text/plain": [
       "[{'category_id': 2,\n",
       "  'category_name': 'Soccer',\n",
       "  'total_sales': 26477.049835205078},\n",
       " {'category_id': 3,\n",
       "  'category_name': 'Baseball & Softball',\n",
       "  'total_sales': 94057.15254592896},\n",
       " {'category_id': 4,\n",
       "  'category_name': 'Basketball',\n",
       "  'total_sales': 27099.329345703125},\n",
       " {'category_id': 5,\n",
       "  'category_name': 'Lacrosse',\n",
       "  'total_sales': 39464.78979682922},\n",
       " {'category_id': 6,\n",
       "  'category_name': 'Tennis & Racquet',\n",
       "  'total_sales': 44585.09062957764},\n",
       " {'category_id': 7,\n",
       "  'category_name': 'Hockey',\n",
       "  'total_sales': 48360.729736328125},\n",
       " {'category_id': 9,\n",
       "  'category_name': 'Cardio Equipment',\n",
       "  'total_sales': 3694843.196662903},\n",
       " {'category_id': 10,\n",
       "  'category_name': 'Strength Training',\n",
       "  'total_sales': 54895.529541015625},\n",
       " {'category_id': 11,\n",
       "  'category_name': 'Fitness Accessories',\n",
       "  'total_sales': 35601.440547943115},\n",
       " {'category_id': 12,\n",
       "  'category_name': 'Boxing & MMA',\n",
       "  'total_sales': 85205.41108703613},\n",
       " {'category_id': 13,\n",
       "  'category_name': 'Electronics',\n",
       "  'total_sales': 115355.24993896484},\n",
       " {'category_id': 16,\n",
       "  'category_name': 'As Seen on  TV!',\n",
       "  'total_sales': 20597.939964294434},\n",
       " {'category_id': 17,\n",
       "  'category_name': 'Cleats',\n",
       "  'total_sales': 4431942.783172607},\n",
       " {'category_id': 18,\n",
       "  'category_name': \"Men's Footwear\",\n",
       "  'total_sales': 2891757.6622009277},\n",
       " {'category_id': 24,\n",
       "  'category_name': \"Women's Apparel\",\n",
       "  'total_sales': 3147800.0},\n",
       " {'category_id': 26,\n",
       "  'category_name': \"Girls' Apparel\",\n",
       "  'total_sales': 151706.20063781738},\n",
       " {'category_id': 29,\n",
       "  'category_name': 'Shop By Sport',\n",
       "  'total_sales': 1309522.0416183472},\n",
       " {'category_id': 30,\n",
       "  'category_name': \"Men's Golf Clubs\",\n",
       "  'total_sales': 47035.80051422119},\n",
       " {'category_id': 31,\n",
       "  'category_name': \"Women's Golf Clubs\",\n",
       "  'total_sales': 44545.97013092041},\n",
       " {'category_id': 32,\n",
       "  'category_name': 'Golf Apparel',\n",
       "  'total_sales': 34969.750036239624},\n",
       " {'category_id': 33, 'category_name': 'Golf Shoes', 'total_sales': 107998.0},\n",
       " {'category_id': 34,\n",
       "  'category_name': 'Golf Bags & Carts',\n",
       "  'total_sales': 10369.390335083008},\n",
       " {'category_id': 35,\n",
       "  'category_name': 'Golf Gloves',\n",
       "  'total_sales': 116695.39043235779},\n",
       " {'category_id': 36,\n",
       "  'category_name': 'Golf Balls',\n",
       "  'total_sales': 77098.15904426575},\n",
       " {'category_id': 37,\n",
       "  'category_name': 'Electronics',\n",
       "  'total_sales': 255679.39327430725},\n",
       " {'category_id': 38,\n",
       "  'category_name': \"Kids' Golf Clubs\",\n",
       "  'total_sales': 98797.5792388916},\n",
       " {'category_id': 40,\n",
       "  'category_name': 'Accessories',\n",
       "  'total_sales': 133671.5088443756},\n",
       " {'category_id': 41,\n",
       "  'category_name': 'Trade-In',\n",
       "  'total_sales': 68721.77975654602},\n",
       " {'category_id': 43,\n",
       "  'category_name': 'Camping & Hiking',\n",
       "  'total_sales': 4118425.570831299},\n",
       " {'category_id': 44,\n",
       "  'category_name': 'Hunting & Shooting',\n",
       "  'total_sales': 56848.42007446289},\n",
       " {'category_id': 45,\n",
       "  'category_name': 'Fishing',\n",
       "  'total_sales': 6929653.690338135},\n",
       " {'category_id': 46,\n",
       "  'category_name': 'Indoor/Outdoor Games',\n",
       "  'total_sales': 2888993.91355896},\n",
       " {'category_id': 48,\n",
       "  'category_name': 'Water Sports',\n",
       "  'total_sales': 3113844.684753418},\n",
       " {'category_id': None,\n",
       "  'category_name': 'Water Sports',\n",
       "  'total_sales': 34322620.59842491}]"
      ]
     },
     "execution_count": 169,
     "metadata": {},
     "output_type": "execute_result"
    }
   ],
   "source": [
    "cursor.execute(\"\"\"select product_category_id as category_id,category_name,\n",
    "sum(order_item_subtotal) as total_sales from (select category_name,\n",
    "product_category_id,product_id from categories t3 join products t4 on t4.product_category_id=category_id) t1\n",
    "join order_items t2\n",
    "on t1.product_id=t2.order_item_product_id\n",
    "group by product_category_id with rollup\"\"\")\n",
    "cursor.fetchall()\n",
    "\n"
   ]
  },
  {
   "cell_type": "code",
   "execution_count": 174,
   "id": "39ec77dd",
   "metadata": {},
   "outputs": [
    {
     "data": {
      "text/plain": [
       "[{'department_name': 'Apparel', 'total_sales': 7323700.445373535},\n",
       " {'department_name': 'Fan Shop', 'total_sales': 17107766.279556274},\n",
       " {'department_name': 'Fitness', 'total_sales': 280044.14188957214},\n",
       " {'department_name': 'Footwear', 'total_sales': 4006498.767742157},\n",
       " {'department_name': 'Golf', 'total_sales': 4609028.242256165},\n",
       " {'department_name': 'Outdoors', 'total_sales': 995582.7216072083},\n",
       " {'department_name': None, 'total_sales': 34322620.59842491}]"
      ]
     },
     "execution_count": 174,
     "metadata": {},
     "output_type": "execute_result"
    }
   ],
   "source": [
    "cursor.execute(\"\"\"select t2.department_name as department_name,sum(t1.order_item_subtotal) as total_sales from \n",
    "(select order_item_subtotal,product_category_id,product_id,order_item_product_id from products t1 join\n",
    "order_items t2 on t2.order_item_product_id=t1.product_id) t1 join \n",
    "(select department_name as department_name,category_id from departments t1 join \n",
    "categories t2 on t2.category_department_id=t1.department_id) \n",
    "t2 on t2.category_id=t1.product_category_id\n",
    "group by department_name with rollup\n",
    "\"\"\")\n",
    "cursor.fetchall()"
   ]
  },
  {
   "cell_type": "code",
   "execution_count": null,
   "id": "f5da6f88",
   "metadata": {},
   "outputs": [],
   "source": []
  },
  {
   "cell_type": "code",
   "execution_count": null,
   "id": "47cd8979",
   "metadata": {},
   "outputs": [],
   "source": []
  },
  {
   "cell_type": "code",
   "execution_count": null,
   "id": "3252eee8",
   "metadata": {},
   "outputs": [],
   "source": [
    "#category department quater combined\n",
    "\n",
    "cursor.execute(\"\"\"select Quarter(order_date),t2.department_name as department_name,category_name as category,\n",
    "sum(t1.order_item_subtotal) as total_sales from (\n",
    "select order_date,order_item_product_id,\n",
    "order_item_subtotal from orders t1\n",
    "join order_items t2\n",
    "on t1.order_id=t2.order_item_order_id) t1 join \n",
    "(select t2.department_name as department_name,category_name,t1.order_item_subtotal,product_id from \n",
    "(select order_item_subtotal,product_category_id,product_id,order_item_product_id from products t1 join\n",
    "order_items t2 on t2.order_item_product_id=t1.product_id) t1 join \n",
    "(select department_name as department_name,category_id,category_name from departments t1 join \n",
    "categories t2 on t2.category_department_id=t1.department_id) \n",
    "t2 on t2.category_id=t1.product_category_id)t2 on t2.product_id=t1.order_item_product_id\n",
    "group by department_name,category_name,Quarter(order_date) with rollup\n",
    "\"\"\")\n",
    "cursor.fetchall()\n",
    "\n"
   ]
  },
  {
   "cell_type": "markdown",
   "id": "6258254f",
   "metadata": {},
   "source": [
    "# Q2\n",
    "[Forecast and Account Planning] What is the quarterly moving average?"
   ]
  },
  {
   "cell_type": "code",
   "execution_count": null,
   "id": "cf881238",
   "metadata": {},
   "outputs": [],
   "source": []
  },
  {
   "cell_type": "code",
   "execution_count": 157,
   "id": "d42dc376",
   "metadata": {},
   "outputs": [],
   "source": [
    "#sql"
   ]
  },
  {
   "cell_type": "code",
   "execution_count": 160,
   "id": "7541e57d",
   "metadata": {},
   "outputs": [
    {
     "data": {
      "text/plain": [
       "[{'Qt': 1, 'total_sales': 198.96871191465618},\n",
       " {'Qt': 2, 'total_sales': 200.34257642046813},\n",
       " {'Qt': 3, 'total_sales': 199.025242363773},\n",
       " {'Qt': 4, 'total_sales': 199.0016209847462}]"
      ]
     },
     "execution_count": 160,
     "metadata": {},
     "output_type": "execute_result"
    }
   ],
   "source": [
    "cursor.execute(\"\"\"select Quarter(order_date) as Qt,avg(order_item_subtotal) as total_sales\n",
    "from orders t1 join order_items t2 where t2.order_item_order_id=t1.order_id group by Quarter(order_date)\"\"\")\n",
    "cursor.fetchall()"
   ]
  },
  {
   "cell_type": "code",
   "execution_count": null,
   "id": "6a0a042d",
   "metadata": {},
   "outputs": [],
   "source": []
  },
  {
   "cell_type": "code",
   "execution_count": null,
   "id": "1aed01bb",
   "metadata": {},
   "outputs": [],
   "source": []
  },
  {
   "cell_type": "code",
   "execution_count": null,
   "id": "a77b9724",
   "metadata": {},
   "outputs": [],
   "source": []
  },
  {
   "cell_type": "markdown",
   "id": "9b12b2f9",
   "metadata": {},
   "source": [
    "# Q3\n",
    "What is the most expensive product sold by the company?"
   ]
  },
  {
   "cell_type": "code",
   "execution_count": 53,
   "id": "a141b873",
   "metadata": {},
   "outputs": [],
   "source": [
    "#pandas"
   ]
  },
  {
   "cell_type": "code",
   "execution_count": 54,
   "id": "2dad2864",
   "metadata": {},
   "outputs": [
    {
     "data": {
      "text/html": [
       "<div>\n",
       "<style scoped>\n",
       "    .dataframe tbody tr th:only-of-type {\n",
       "        vertical-align: middle;\n",
       "    }\n",
       "\n",
       "    .dataframe tbody tr th {\n",
       "        vertical-align: top;\n",
       "    }\n",
       "\n",
       "    .dataframe thead th {\n",
       "        text-align: right;\n",
       "    }\n",
       "</style>\n",
       "<table border=\"1\" class=\"dataframe\">\n",
       "  <thead>\n",
       "    <tr style=\"text-align: right;\">\n",
       "      <th></th>\n",
       "      <th>product_id</th>\n",
       "      <th>product_category_id</th>\n",
       "      <th>product_name</th>\n",
       "      <th>product_description</th>\n",
       "      <th>product_price</th>\n",
       "      <th>product_image</th>\n",
       "    </tr>\n",
       "  </thead>\n",
       "  <tbody>\n",
       "    <tr>\n",
       "      <th>0</th>\n",
       "      <td>1</td>\n",
       "      <td>2</td>\n",
       "      <td>Quest Q64 10 FT. x 10 FT. Slant Leg Instant U</td>\n",
       "      <td></td>\n",
       "      <td>59.98</td>\n",
       "      <td>http://images.acmesports.sports/Quest+Q64+10+F...</td>\n",
       "    </tr>\n",
       "    <tr>\n",
       "      <th>1</th>\n",
       "      <td>2</td>\n",
       "      <td>2</td>\n",
       "      <td>Under Armour Men's Highlight MC Football Clea</td>\n",
       "      <td></td>\n",
       "      <td>129.99</td>\n",
       "      <td>http://images.acmesports.sports/Under+Armour+M...</td>\n",
       "    </tr>\n",
       "    <tr>\n",
       "      <th>2</th>\n",
       "      <td>3</td>\n",
       "      <td>2</td>\n",
       "      <td>Under Armour Men's Renegade D Mid Football Cl</td>\n",
       "      <td></td>\n",
       "      <td>89.99</td>\n",
       "      <td>http://images.acmesports.sports/Under+Armour+M...</td>\n",
       "    </tr>\n",
       "  </tbody>\n",
       "</table>\n",
       "</div>"
      ],
      "text/plain": [
       "   product_id  product_category_id  \\\n",
       "0           1                    2   \n",
       "1           2                    2   \n",
       "2           3                    2   \n",
       "\n",
       "                                    product_name product_description  \\\n",
       "0  Quest Q64 10 FT. x 10 FT. Slant Leg Instant U                       \n",
       "1  Under Armour Men's Highlight MC Football Clea                       \n",
       "2  Under Armour Men's Renegade D Mid Football Cl                       \n",
       "\n",
       "   product_price                                      product_image  \n",
       "0          59.98  http://images.acmesports.sports/Quest+Q64+10+F...  \n",
       "1         129.99  http://images.acmesports.sports/Under+Armour+M...  \n",
       "2          89.99  http://images.acmesports.sports/Under+Armour+M...  "
      ]
     },
     "execution_count": 54,
     "metadata": {},
     "output_type": "execute_result"
    }
   ],
   "source": [
    "products.head(3)"
   ]
  },
  {
   "cell_type": "code",
   "execution_count": 92,
   "id": "0d508b53",
   "metadata": {},
   "outputs": [
    {
     "data": {
      "text/plain": [
       "1999.99"
      ]
     },
     "execution_count": 92,
     "metadata": {},
     "output_type": "execute_result"
    }
   ],
   "source": [
    "df=products['product_price'].max()\n",
    "df"
   ]
  },
  {
   "cell_type": "code",
   "execution_count": 56,
   "id": "3ed54be0",
   "metadata": {},
   "outputs": [
    {
     "data": {
      "text/html": [
       "<div>\n",
       "<style scoped>\n",
       "    .dataframe tbody tr th:only-of-type {\n",
       "        vertical-align: middle;\n",
       "    }\n",
       "\n",
       "    .dataframe tbody tr th {\n",
       "        vertical-align: top;\n",
       "    }\n",
       "\n",
       "    .dataframe thead th {\n",
       "        text-align: right;\n",
       "    }\n",
       "</style>\n",
       "<table border=\"1\" class=\"dataframe\">\n",
       "  <thead>\n",
       "    <tr style=\"text-align: right;\">\n",
       "      <th></th>\n",
       "      <th>product_id</th>\n",
       "      <th>product_category_id</th>\n",
       "      <th>product_name</th>\n",
       "      <th>product_description</th>\n",
       "      <th>product_price</th>\n",
       "      <th>product_image</th>\n",
       "    </tr>\n",
       "  </thead>\n",
       "  <tbody>\n",
       "    <tr>\n",
       "      <th>207</th>\n",
       "      <td>208</td>\n",
       "      <td>10</td>\n",
       "      <td>SOLE E35 Elliptical</td>\n",
       "      <td></td>\n",
       "      <td>1999.99</td>\n",
       "      <td>http://images.acmesports.sports/SOLE+E35+Ellip...</td>\n",
       "    </tr>\n",
       "  </tbody>\n",
       "</table>\n",
       "</div>"
      ],
      "text/plain": [
       "     product_id  product_category_id         product_name product_description  \\\n",
       "207         208                   10  SOLE E35 Elliptical                       \n",
       "\n",
       "     product_price                                      product_image  \n",
       "207        1999.99  http://images.acmesports.sports/SOLE+E35+Ellip...  "
      ]
     },
     "execution_count": 56,
     "metadata": {},
     "output_type": "execute_result"
    }
   ],
   "source": [
    "products[products[\"product_price\"]==1999.99]"
   ]
  },
  {
   "cell_type": "code",
   "execution_count": 57,
   "id": "80d6dea5",
   "metadata": {},
   "outputs": [],
   "source": [
    "#sql"
   ]
  },
  {
   "cell_type": "code",
   "execution_count": 148,
   "id": "92e27f9e",
   "metadata": {},
   "outputs": [
    {
     "data": {
      "text/plain": [
       "[{'max(product_price)': 1999.99,\n",
       "  'expensive_product': \"Diamondback Women's Serene Classic Comfort Bi\"}]"
      ]
     },
     "execution_count": 148,
     "metadata": {},
     "output_type": "execute_result"
    }
   ],
   "source": [
    "cursor.execute(\"\"\"select max(product_price),product_name as expensive_product\n",
    "from products t1 join order_items t2 \n",
    "on t2.order_item_product_id=product_id\"\"\")\n",
    "cursor.fetchall()"
   ]
  },
  {
   "cell_type": "code",
   "execution_count": null,
   "id": "5477800d",
   "metadata": {},
   "outputs": [],
   "source": []
  },
  {
   "cell_type": "code",
   "execution_count": null,
   "id": "acdd65d3",
   "metadata": {},
   "outputs": [],
   "source": []
  },
  {
   "cell_type": "code",
   "execution_count": null,
   "id": "3a668aa6",
   "metadata": {},
   "outputs": [],
   "source": []
  },
  {
   "cell_type": "markdown",
   "id": "c57e91da",
   "metadata": {},
   "source": [
    "# Q4\n",
    "What is the average, minimum and maximum order value?"
   ]
  },
  {
   "cell_type": "code",
   "execution_count": 62,
   "id": "155021b6",
   "metadata": {},
   "outputs": [
    {
     "data": {
      "text/html": [
       "<div>\n",
       "<style scoped>\n",
       "    .dataframe tbody tr th:only-of-type {\n",
       "        vertical-align: middle;\n",
       "    }\n",
       "\n",
       "    .dataframe tbody tr th {\n",
       "        vertical-align: top;\n",
       "    }\n",
       "\n",
       "    .dataframe thead th {\n",
       "        text-align: right;\n",
       "    }\n",
       "</style>\n",
       "<table border=\"1\" class=\"dataframe\">\n",
       "  <thead>\n",
       "    <tr style=\"text-align: right;\">\n",
       "      <th></th>\n",
       "      <th>order_item_id</th>\n",
       "      <th>order_item_order_id</th>\n",
       "      <th>order_item_product_id</th>\n",
       "      <th>order_item_quantity</th>\n",
       "      <th>order_item_subtotal</th>\n",
       "      <th>order_item_product_price</th>\n",
       "    </tr>\n",
       "  </thead>\n",
       "  <tbody>\n",
       "    <tr>\n",
       "      <th>0</th>\n",
       "      <td>1</td>\n",
       "      <td>1</td>\n",
       "      <td>957</td>\n",
       "      <td>1</td>\n",
       "      <td>299.98</td>\n",
       "      <td>299.98</td>\n",
       "    </tr>\n",
       "    <tr>\n",
       "      <th>1</th>\n",
       "      <td>2</td>\n",
       "      <td>2</td>\n",
       "      <td>1073</td>\n",
       "      <td>1</td>\n",
       "      <td>199.99</td>\n",
       "      <td>199.99</td>\n",
       "    </tr>\n",
       "    <tr>\n",
       "      <th>2</th>\n",
       "      <td>3</td>\n",
       "      <td>2</td>\n",
       "      <td>502</td>\n",
       "      <td>5</td>\n",
       "      <td>250.00</td>\n",
       "      <td>50.00</td>\n",
       "    </tr>\n",
       "    <tr>\n",
       "      <th>3</th>\n",
       "      <td>4</td>\n",
       "      <td>2</td>\n",
       "      <td>403</td>\n",
       "      <td>1</td>\n",
       "      <td>129.99</td>\n",
       "      <td>129.99</td>\n",
       "    </tr>\n",
       "    <tr>\n",
       "      <th>4</th>\n",
       "      <td>5</td>\n",
       "      <td>4</td>\n",
       "      <td>897</td>\n",
       "      <td>2</td>\n",
       "      <td>49.98</td>\n",
       "      <td>24.99</td>\n",
       "    </tr>\n",
       "  </tbody>\n",
       "</table>\n",
       "</div>"
      ],
      "text/plain": [
       "   order_item_id  order_item_order_id  order_item_product_id  \\\n",
       "0              1                    1                    957   \n",
       "1              2                    2                   1073   \n",
       "2              3                    2                    502   \n",
       "3              4                    2                    403   \n",
       "4              5                    4                    897   \n",
       "\n",
       "   order_item_quantity  order_item_subtotal  order_item_product_price  \n",
       "0                    1               299.98                    299.98  \n",
       "1                    1               199.99                    199.99  \n",
       "2                    5               250.00                     50.00  \n",
       "3                    1               129.99                    129.99  \n",
       "4                    2                49.98                     24.99  "
      ]
     },
     "execution_count": 62,
     "metadata": {},
     "output_type": "execute_result"
    }
   ],
   "source": [
    "order_items.head()"
   ]
  },
  {
   "cell_type": "code",
   "execution_count": 99,
   "id": "74bd31a1",
   "metadata": {},
   "outputs": [
    {
     "data": {
      "text/plain": [
       "1999.99"
      ]
     },
     "execution_count": 99,
     "metadata": {},
     "output_type": "execute_result"
    }
   ],
   "source": [
    "df=order_items['order_item_subtotal'].max()\n",
    "df"
   ]
  },
  {
   "cell_type": "code",
   "execution_count": 123,
   "id": "4d1803f6",
   "metadata": {},
   "outputs": [
    {
     "data": {
      "text/plain": [
       "order_item_order_id\n",
       "1         299.98\n",
       "2         579.98\n",
       "4         699.85\n",
       "5        1129.86\n",
       "7         579.92\n",
       "          ...   \n",
       "68879    1259.97\n",
       "68880     999.77\n",
       "68881     129.99\n",
       "68882     109.99\n",
       "68883    2149.99\n",
       "Name: order_item_subtotal, Length: 57431, dtype: float64"
      ]
     },
     "execution_count": 123,
     "metadata": {},
     "output_type": "execute_result"
    }
   ],
   "source": [
    "df=order_items.groupby(['order_item_order_id'])['order_item_subtotal'].sum()\n",
    "df"
   ]
  },
  {
   "cell_type": "code",
   "execution_count": 120,
   "id": "c842e07d",
   "metadata": {},
   "outputs": [
    {
     "data": {
      "text/plain": [
       "1999.99"
      ]
     },
     "execution_count": 120,
     "metadata": {},
     "output_type": "execute_result"
    }
   ],
   "source": [
    "df.max()"
   ]
  },
  {
   "cell_type": "code",
   "execution_count": 121,
   "id": "217d84a0",
   "metadata": {},
   "outputs": [
    {
     "data": {
      "text/plain": [
       "9.99"
      ]
     },
     "execution_count": 121,
     "metadata": {},
     "output_type": "execute_result"
    }
   ],
   "source": [
    "df.min()"
   ]
  },
  {
   "cell_type": "code",
   "execution_count": 122,
   "id": "8757a504",
   "metadata": {},
   "outputs": [
    {
     "data": {
      "text/plain": [
       "199.3206653387379"
      ]
     },
     "execution_count": 122,
     "metadata": {},
     "output_type": "execute_result"
    }
   ],
   "source": [
    "df.mean()"
   ]
  },
  {
   "cell_type": "code",
   "execution_count": 149,
   "id": "01ea687b",
   "metadata": {},
   "outputs": [
    {
     "data": {
      "text/html": [
       "<div>\n",
       "<style scoped>\n",
       "    .dataframe tbody tr th:only-of-type {\n",
       "        vertical-align: middle;\n",
       "    }\n",
       "\n",
       "    .dataframe tbody tr th {\n",
       "        vertical-align: top;\n",
       "    }\n",
       "\n",
       "    .dataframe thead th {\n",
       "        text-align: right;\n",
       "    }\n",
       "</style>\n",
       "<table border=\"1\" class=\"dataframe\">\n",
       "  <thead>\n",
       "    <tr style=\"text-align: right;\">\n",
       "      <th></th>\n",
       "      <th>order_id</th>\n",
       "      <th>order_date</th>\n",
       "      <th>order_customer_id</th>\n",
       "      <th>order_status</th>\n",
       "    </tr>\n",
       "  </thead>\n",
       "  <tbody>\n",
       "    <tr>\n",
       "      <th>0</th>\n",
       "      <td>1</td>\n",
       "      <td>2013-07-25</td>\n",
       "      <td>11599</td>\n",
       "      <td>CLOSED</td>\n",
       "    </tr>\n",
       "  </tbody>\n",
       "</table>\n",
       "</div>"
      ],
      "text/plain": [
       "   order_id order_date  order_customer_id order_status\n",
       "0         1 2013-07-25              11599       CLOSED"
      ]
     },
     "execution_count": 149,
     "metadata": {},
     "output_type": "execute_result"
    }
   ],
   "source": [
    "orders.head(1)"
   ]
  },
  {
   "cell_type": "code",
   "execution_count": 150,
   "id": "a106640f",
   "metadata": {},
   "outputs": [
    {
     "data": {
      "text/html": [
       "<div>\n",
       "<style scoped>\n",
       "    .dataframe tbody tr th:only-of-type {\n",
       "        vertical-align: middle;\n",
       "    }\n",
       "\n",
       "    .dataframe tbody tr th {\n",
       "        vertical-align: top;\n",
       "    }\n",
       "\n",
       "    .dataframe thead th {\n",
       "        text-align: right;\n",
       "    }\n",
       "</style>\n",
       "<table border=\"1\" class=\"dataframe\">\n",
       "  <thead>\n",
       "    <tr style=\"text-align: right;\">\n",
       "      <th></th>\n",
       "      <th>order_item_id</th>\n",
       "      <th>order_item_order_id</th>\n",
       "      <th>order_item_product_id</th>\n",
       "      <th>order_item_quantity</th>\n",
       "      <th>order_item_subtotal</th>\n",
       "      <th>order_item_product_price</th>\n",
       "    </tr>\n",
       "  </thead>\n",
       "  <tbody>\n",
       "    <tr>\n",
       "      <th>0</th>\n",
       "      <td>1</td>\n",
       "      <td>1</td>\n",
       "      <td>957</td>\n",
       "      <td>1</td>\n",
       "      <td>299.98</td>\n",
       "      <td>299.98</td>\n",
       "    </tr>\n",
       "  </tbody>\n",
       "</table>\n",
       "</div>"
      ],
      "text/plain": [
       "   order_item_id  order_item_order_id  order_item_product_id  \\\n",
       "0              1                    1                    957   \n",
       "\n",
       "   order_item_quantity  order_item_subtotal  order_item_product_price  \n",
       "0                    1               299.98                    299.98  "
      ]
     },
     "execution_count": 150,
     "metadata": {},
     "output_type": "execute_result"
    }
   ],
   "source": [
    "order_items.head(1)"
   ]
  },
  {
   "cell_type": "code",
   "execution_count": null,
   "id": "e2bbada0",
   "metadata": {},
   "outputs": [],
   "source": []
  },
  {
   "cell_type": "code",
   "execution_count": 153,
   "id": "8a2be0c4",
   "metadata": {},
   "outputs": [],
   "source": [
    "#sql"
   ]
  },
  {
   "cell_type": "code",
   "execution_count": 154,
   "id": "6412ceaa",
   "metadata": {},
   "outputs": [
    {
     "data": {
      "text/plain": [
       "[{'Maximum_order': 1999.99,\n",
       "  'minimum_order': 9.99,\n",
       "  'Average': 199.32066922046081}]"
      ]
     },
     "execution_count": 154,
     "metadata": {},
     "output_type": "execute_result"
    }
   ],
   "source": [
    "cursor.execute(\"\"\"select max(order_item_subtotal) as Maximum_order,\n",
    "min(order_item_subtotal) as minimum_order,avg(order_item_subtotal) as Average from order_items t1\n",
    "join orders t2 on t2.order_id=t1.order_item_order_id\"\"\")\n",
    "cursor.fetchall()"
   ]
  },
  {
   "cell_type": "code",
   "execution_count": null,
   "id": "71fc7800",
   "metadata": {},
   "outputs": [],
   "source": []
  },
  {
   "cell_type": "code",
   "execution_count": null,
   "id": "da5467be",
   "metadata": {},
   "outputs": [],
   "source": []
  },
  {
   "cell_type": "code",
   "execution_count": null,
   "id": "90a760b9",
   "metadata": {},
   "outputs": [],
   "source": []
  },
  {
   "cell_type": "markdown",
   "id": "9a00b355",
   "metadata": {},
   "source": [
    "# Q5\n",
    "[Market Basket Analysis] Find frequency of each product pair. Find top 10 product pairs that are sold together. For customer XXX, which products you can recommend based on other users' purchasing patterns.\n"
   ]
  },
  {
   "cell_type": "code",
   "execution_count": null,
   "id": "582b2cde",
   "metadata": {},
   "outputs": [],
   "source": []
  },
  {
   "cell_type": "code",
   "execution_count": null,
   "id": "0c2c7b4c",
   "metadata": {},
   "outputs": [],
   "source": []
  },
  {
   "cell_type": "code",
   "execution_count": null,
   "id": "55c267c5",
   "metadata": {},
   "outputs": [],
   "source": []
  },
  {
   "cell_type": "code",
   "execution_count": null,
   "id": "6bab4121",
   "metadata": {},
   "outputs": [],
   "source": []
  },
  {
   "cell_type": "code",
   "execution_count": null,
   "id": "cd680d4e",
   "metadata": {},
   "outputs": [],
   "source": []
  },
  {
   "cell_type": "markdown",
   "id": "c5184a57",
   "metadata": {},
   "source": [
    "# Q6\n",
    "Find the top selling product. Find whether a user XXX, has purchased that product already. This information can be used to prompt the user as a recommendation. If the customer has purchased it already, the site may ask the user whether she wants to buy it again, if not, recommend the product."
   ]
  },
  {
   "cell_type": "code",
   "execution_count": null,
   "id": "f9752be2",
   "metadata": {},
   "outputs": [],
   "source": []
  },
  {
   "cell_type": "code",
   "execution_count": null,
   "id": "0e0a5ca9",
   "metadata": {},
   "outputs": [],
   "source": []
  },
  {
   "cell_type": "code",
   "execution_count": null,
   "id": "8b820dfc",
   "metadata": {},
   "outputs": [],
   "source": []
  },
  {
   "cell_type": "code",
   "execution_count": null,
   "id": "7081f336",
   "metadata": {},
   "outputs": [],
   "source": []
  },
  {
   "cell_type": "markdown",
   "id": "bc369a02",
   "metadata": {},
   "source": [
    "# Q7\n",
    "Which customers show decline in their purchase volume over consecutive quarters. This information can be used for churn analysis."
   ]
  },
  {
   "cell_type": "code",
   "execution_count": null,
   "id": "bc869811",
   "metadata": {},
   "outputs": [],
   "source": []
  },
  {
   "cell_type": "code",
   "execution_count": null,
   "id": "48fd75d9",
   "metadata": {},
   "outputs": [],
   "source": []
  },
  {
   "cell_type": "code",
   "execution_count": null,
   "id": "c86f31a5",
   "metadata": {},
   "outputs": [],
   "source": []
  },
  {
   "cell_type": "code",
   "execution_count": null,
   "id": "7fbba3eb",
   "metadata": {},
   "outputs": [],
   "source": []
  },
  {
   "cell_type": "markdown",
   "id": "884ab808",
   "metadata": {},
   "source": [
    "# Q8\n",
    "Which product categories and departments show decline in sales Q2Q (quarter to quarter and same quarter last year."
   ]
  },
  {
   "cell_type": "code",
   "execution_count": null,
   "id": "5340505e",
   "metadata": {},
   "outputs": [],
   "source": []
  }
 ],
 "metadata": {
  "kernelspec": {
   "display_name": "Python 3 (ipykernel)",
   "language": "python",
   "name": "python3"
  },
  "language_info": {
   "codemirror_mode": {
    "name": "ipython",
    "version": 3
   },
   "file_extension": ".py",
   "mimetype": "text/x-python",
   "name": "python",
   "nbconvert_exporter": "python",
   "pygments_lexer": "ipython3",
   "version": "3.8.10"
  }
 },
 "nbformat": 4,
 "nbformat_minor": 5
}
